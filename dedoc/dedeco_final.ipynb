{
 "cells": [
  {
   "cell_type": "markdown",
   "id": "d1fefc54f397f773",
   "metadata": {
    "collapsed": false
   },
   "source": [
    "## Install dedoc using pip\n",
    "\n",
    "If you don't want to use docker for running the application, it's possible to run dedoc locally.\n",
    "However, it isn't suitable for any operating system (`Ubuntu 20+` is recommended) and\n",
    "there may be not enough machine's resources for its work.\n",
    "You should have `python` (`python3.8`, `python3.9` are recommended) and `pip` installed.\n",
    "\n",
    "### 1. Install necessary packages:\n",
    "```shell\n",
    "sudo apt-get install -y libreoffice djvulibre-bin unzip unrar\n",
    "```\n",
    "\n",
    "`libreoffice` and `djvulibre-bin` packages are used by converters (doc, odt to docx; xls, ods to xlsx; ppt, odp to pptx; djvu to pdf).\n",
    "If you don't need converters, you can skip this step.\n",
    "`unzip` and `unrar` packages are used in the process of extracting archives.\n",
    "\n",
    "### 2. Install `Tesseract OCR 5` framework:\n",
    "You can try any tutorial for this purpose or look [`here`](https://github.com/ispras/dedockerfiles/blob/master/dedoc_p3.9_base.Dockerfile)\n",
    "to get the example of Tesseract installing for dedoc container or use next commands for building Tesseract OCR 5 from sources:\n",
    "\n",
    "#### 2.1. Install compilers and libraries required by the Tesseract OCR:\n",
    "```shell\n",
    "sudo apt-get update\n",
    "sudo apt-get install -y automake binutils-dev build-essential ca-certificates clang g++ g++-multilib gcc-multilib libcairo2 libffi-dev \\\n",
    "libgdk-pixbuf2.0-0 libglib2.0-dev libjpeg-dev libleptonica-dev libpango-1.0-0 libpango1.0-dev libpangocairo-1.0-0 libpng-dev libsm6 \\\n",
    "libtesseract-dev libtool libxext6 make pkg-config poppler-utils pstotext shared-mime-info software-properties-common swig zlib1g-dev\n",
    "```\n",
    "#### 2.2. Build Tesseract from sources:\n",
    "```shell\n",
    "sudo add-apt-repository -y ppa:alex-p/tesseract-ocr-devel\n",
    "sudo apt-get update --allow-releaseinfo-change\n",
    "sudo apt-get install -y tesseract-ocr tesseract-ocr-rus\n",
    "git clone --depth 1 --branch 5.0.0-beta-20210916 https://github.com/tesseract-ocr/tesseract/\n",
    "cd tesseract && ./autogen.sh && sudo ./configure && sudo make && sudo make install && sudo ldconfig && cd ..\n",
    "export TESSDATA_PREFIX=/usr/share/tesseract-ocr/5/tessdata/\n",
    "```\n",
    "\n"
   ]
  },
  {
   "cell_type": "code",
   "execution_count": 1,
   "id": "initial_id",
   "metadata": {
    "ExecuteTime": {
     "end_time": "2024-03-01T03:52:46.305434800Z",
     "start_time": "2024-03-01T03:52:45.583423900Z"
    },
    "collapsed": true,
    "jupyter": {
     "outputs_hidden": true
    }
   },
   "outputs": [],
   "source": [
    "from dedoc import DedocManager\n"
   ]
  },
  {
   "cell_type": "code",
   "execution_count": 2,
   "id": "265359b7c4ae9db2",
   "metadata": {
    "ExecuteTime": {
     "end_time": "2024-03-01T03:53:02.266340800Z",
     "start_time": "2024-03-01T03:53:00.173106700Z"
    },
    "collapsed": false
   },
   "outputs": [
    {
     "name": "stderr",
     "output_type": "stream",
     "text": [
      "C:\\Users\\jaini\\PycharmProjects\\mined_resume\\venv\\lib\\site-packages\\xgboost\\compat.py:93: FutureWarning: pandas.Int64Index is deprecated and will be removed from pandas in a future version. Use pandas.Index with the appropriate dtype instead.\n",
      "  from pandas import MultiIndex, Int64Index\n"
     ]
    },
    {
     "name": "stdout",
     "output_type": "stream",
     "text": [
      "2024-03-01 09:23:02,166 - C:\\Users\\jaini\\PycharmProjects\\mined_resume\\venv\\lib\\site-packages\\dedoc\\readers\\pdf_reader\\pdf_image_reader\\columns_orientation_classifier\\columns_orientation_classifier.py - WARNING - Classifier is set to device cpu\n",
      "2024-03-01 09:23:02,167 - C:\\Users\\jaini\\PycharmProjects\\mined_resume\\venv\\lib\\site-packages\\dedoc\\readers\\pdf_reader\\pdf_image_reader\\columns_orientation_classifier\\columns_orientation_classifier.py - WARNING - Classifier is set to device cpu\n"
     ]
    }
   ],
   "source": [
    "manager = DedocManager()"
   ]
  },
  {
   "cell_type": "markdown",
   "id": "84f04db46ac8f5f8",
   "metadata": {
    "collapsed": false
   },
   "source": [
    "Dedoc is implemented in Python and works with semi-structured data formats (DOC/DOCX, ODT, XLS/XLSX, CSV, TXT, JSON) and none-structured data formats like images (PNG, JPG etc.), archives (ZIP, RAR etc.), PDF and HTML formats. Document structure extraction is fully automatic regardless of input data type. Metadata and text formatting are also extracted automatically."
   ]
  },
  {
   "cell_type": "markdown",
   "id": "54313226c9ce9fc0",
   "metadata": {
    "collapsed": false
   },
   "source": [
    "We will be extracting .json files from the PDF , DOCX , HTML and Image files."
   ]
  },
  {
   "cell_type": "code",
   "execution_count": 47,
   "id": "43eb00ec2eb59197",
   "metadata": {
    "ExecuteTime": {
     "end_time": "2024-03-01T04:57:30.608412600Z",
     "start_time": "2024-03-01T04:57:30.595411500Z"
    },
    "collapsed": false
   },
   "outputs": [],
   "source": [
    "# Utlity function to export  the json output\n",
    "import json\n",
    "\n",
    "def write_output_to_json(output, output_folder = None):\n",
    "    \"\"\"\n",
    "    Write the given output data to a JSON file.\n",
    "\n",
    "    Args:\n",
    "    - output: The data to be converted to JSON format.\n",
    "    \"\"\"\n",
    "    \n",
    "    # extract the file name from the metadata and change the extension to .json\n",
    "    filename = output['metadata']['file_name'].split('.')[0] + '.json'\n",
    "    if output_folder:\n",
    "        filename = os.path.join(output_folder, filename)\n",
    "    else:\n",
    "        filename = filename\n",
    "    # Convert output to JSON format\n",
    "    json_data = json.dumps(output, indent=4)\n",
    "\n",
    "    # Write the JSON data to a file\n",
    "    with open(filename, \"w\") as json_file:\n",
    "        json_file.write(json_data)\n",
    "\n",
    "    print(f\"JSON data has been written to {filename}\")\n",
    "\n",
    "\n"
   ]
  },
  {
   "cell_type": "markdown",
   "id": "3470da2043ae93dc",
   "metadata": {
    "collapsed": false
   },
   "source": [
    "### PDF"
   ]
  },
  {
   "cell_type": "code",
   "execution_count": 6,
   "id": "a8320404986ccd35",
   "metadata": {
    "ExecuteTime": {
     "end_time": "2024-03-01T04:00:23.374690200Z",
     "start_time": "2024-03-01T04:00:16.541780200Z"
    },
    "collapsed": false
   },
   "outputs": [
    {
     "name": "stdout",
     "output_type": "stream",
     "text": [
      "2024-03-01 09:30:16,539 - C:\\Users\\jaini\\PycharmProjects\\mined_resume\\venv\\lib\\site-packages\\dedoc\\dedoc_manager.py - INFO - Get file 1.pdf with parameters {'document_type': '', 'structure_type': 'tree', 'return_format': 'json', 'with_attachments': 'false', 'need_content_analysis': 'false', 'recursion_deep_attachments': '10', 'return_base64': 'false', 'attachments_dir': 'documents/pdf', 'need_pdf_table_analysis': 'true', 'table_type': '', 'orient_analysis_cells': 'false', 'orient_cell_angle': '90', 'pdf_with_text_layer': 'auto_tabby', 'language': 'rus+eng', 'pages': ':', 'is_one_column_document': 'auto', 'document_orientation': 'auto', 'need_header_footer_analysis': 'false', 'need_binarization': 'false', 'delimiter': None, 'encoding': None, 'html_fields': '', 'handle_invisible_table': 'false'}\n",
      "2024-03-01 09:30:16,540 - C:\\Users\\jaini\\PycharmProjects\\mined_resume\\venv\\lib\\site-packages\\dedoc\\dedoc_manager.py - INFO - Start handle documents/pdf/1.pdf\n",
      "2024-03-01 09:30:16,542 - C:\\Users\\jaini\\PycharmProjects\\mined_resume\\venv\\lib\\site-packages\\dedoc\\dedoc_manager.py - INFO - Finish conversion 1.pdf -> 1709265616_998.pdf\n",
      "2024-03-01 09:30:16,562 - C:\\Users\\jaini\\PycharmProjects\\mined_resume\\venv\\lib\\site-packages\\dedoc\\readers\\pdf_reader\\pdf_txtlayer_reader\\pdf_tabby_reader.py - INFO - Reading PDF pages from 1 to 1\n",
      "2024-03-01 09:30:17,712 - C:\\Users\\jaini\\PycharmProjects\\mined_resume\\venv\\lib\\site-packages\\dedoc\\readers\\pdf_reader\\pdf_auto_reader\\pdf_auto_reader.py - INFO - Assume document 1709265616_998.pdf has incorrect textual layer\n",
      "2024-03-01 09:30:18,372 - C:\\Users\\jaini\\PycharmProjects\\mined_resume\\venv\\lib\\site-packages\\dedoc\\readers\\pdf_reader\\pdf_base_reader.py - INFO - Get page from 1 to 1 of 1 file 1709265616_998.pdf\n",
      "2024-03-01 09:30:19,377 - C:\\Users\\jaini\\PycharmProjects\\mined_resume\\venv\\lib\\site-packages\\dedoc\\readers\\pdf_reader\\pdf_image_reader\\pdf_image_reader.py - INFO - Predicted orientation angle = 0, columns = 2\n",
      "2024-03-01 09:30:19,378 - C:\\Users\\jaini\\PycharmProjects\\mined_resume\\venv\\lib\\site-packages\\dedoc\\readers\\pdf_reader\\pdf_image_reader\\pdf_image_reader.py - INFO - Final orientation angle = 0, is_one_column_document = False\n",
      "2024-03-01 09:30:23,337 - C:\\Users\\jaini\\PycharmProjects\\mined_resume\\venv\\lib\\site-packages\\dedoc\\dedoc_manager.py - INFO - Finish parse file 1.pdf\n",
      "2024-03-01 09:30:23,339 - C:\\Users\\jaini\\PycharmProjects\\mined_resume\\venv\\lib\\site-packages\\dedoc\\dedoc_manager.py - INFO - Add metadata of file 1.pdf\n",
      "2024-03-01 09:30:23,340 - C:\\Users\\jaini\\PycharmProjects\\mined_resume\\venv\\lib\\site-packages\\dedoc\\dedoc_manager.py - INFO - Extract structure from file 1.pdf\n",
      "2024-03-01 09:30:23,346 - C:\\Users\\jaini\\PycharmProjects\\mined_resume\\venv\\lib\\site-packages\\dedoc\\dedoc_manager.py - INFO - Get structured document 1.pdf\n",
      "2024-03-01 09:30:23,346 - C:\\Users\\jaini\\PycharmProjects\\mined_resume\\venv\\lib\\site-packages\\dedoc\\dedoc_manager.py - INFO - Get attachments 1.pdf\n",
      "2024-03-01 09:30:23,347 - C:\\Users\\jaini\\PycharmProjects\\mined_resume\\venv\\lib\\site-packages\\dedoc\\dedoc_manager.py - INFO - Finish handle 1.pdf\n"
     ]
    }
   ],
   "source": [
    "pdf_file = \"documents/pdf/1.pdf\"\n",
    "output = manager.parse(pdf_file)\n",
    "pdf_output = output.to_api_schema().model_dump()\n"
   ]
  },
  {
   "cell_type": "code",
   "execution_count": 10,
   "id": "26e1a56864333a63",
   "metadata": {
    "ExecuteTime": {
     "end_time": "2024-03-01T04:03:21.764825300Z",
     "start_time": "2024-03-01T04:03:21.725825100Z"
    },
    "collapsed": false
   },
   "outputs": [
    {
     "name": "stdout",
     "output_type": "stream",
     "text": [
      "JSON data has been written to 1.json\n"
     ]
    }
   ],
   "source": [
    "write_output_to_json(pdf_output)    \n"
   ]
  },
  {
   "cell_type": "markdown",
   "id": "ee20a78db2b2b4a8",
   "metadata": {
    "collapsed": false
   },
   "source": [
    "### Making Generic function to extract the json from the files"
   ]
  },
  {
   "cell_type": "code",
   "execution_count": 30,
   "id": "22201bc4cd3316be",
   "metadata": {
    "ExecuteTime": {
     "end_time": "2024-03-01T04:41:28.723860100Z",
     "start_time": "2024-03-01T04:41:21.813744Z"
    },
    "collapsed": false
   },
   "outputs": [
    {
     "name": "stdout",
     "output_type": "stream",
     "text": [
      "2024-03-01 10:11:21,815 - C:\\Users\\jaini\\PycharmProjects\\mined_resume\\venv\\lib\\site-packages\\dedoc\\dedoc_manager.py - INFO - Get file 1.pdf with parameters {'document_type': '', 'structure_type': 'tree', 'return_format': 'json', 'with_attachments': 'false', 'need_content_analysis': 'false', 'recursion_deep_attachments': '10', 'return_base64': 'false', 'attachments_dir': 'documents/pdf', 'need_pdf_table_analysis': 'true', 'table_type': '', 'orient_analysis_cells': 'false', 'orient_cell_angle': '90', 'pdf_with_text_layer': 'auto_tabby', 'language': 'rus+eng', 'pages': ':', 'is_one_column_document': 'auto', 'document_orientation': 'auto', 'need_header_footer_analysis': 'false', 'need_binarization': 'false', 'delimiter': None, 'encoding': None, 'html_fields': '', 'handle_invisible_table': 'false'}\n",
      "2024-03-01 10:11:21,816 - C:\\Users\\jaini\\PycharmProjects\\mined_resume\\venv\\lib\\site-packages\\dedoc\\dedoc_manager.py - INFO - Start handle documents/pdf/1.pdf\n",
      "2024-03-01 10:11:21,818 - C:\\Users\\jaini\\PycharmProjects\\mined_resume\\venv\\lib\\site-packages\\dedoc\\dedoc_manager.py - INFO - Finish conversion 1.pdf -> 1709268081_607.pdf\n",
      "2024-03-01 10:11:21,834 - C:\\Users\\jaini\\PycharmProjects\\mined_resume\\venv\\lib\\site-packages\\dedoc\\readers\\pdf_reader\\pdf_txtlayer_reader\\pdf_tabby_reader.py - INFO - Reading PDF pages from 1 to 1\n",
      "2024-03-01 10:11:22,771 - C:\\Users\\jaini\\PycharmProjects\\mined_resume\\venv\\lib\\site-packages\\dedoc\\readers\\pdf_reader\\pdf_auto_reader\\pdf_auto_reader.py - INFO - Assume document 1709268081_607.pdf has incorrect textual layer\n",
      "2024-03-01 10:11:23,521 - C:\\Users\\jaini\\PycharmProjects\\mined_resume\\venv\\lib\\site-packages\\dedoc\\readers\\pdf_reader\\pdf_base_reader.py - INFO - Get page from 1 to 1 of 1 file 1709268081_607.pdf\n",
      "2024-03-01 10:11:24,686 - C:\\Users\\jaini\\PycharmProjects\\mined_resume\\venv\\lib\\site-packages\\dedoc\\readers\\pdf_reader\\pdf_image_reader\\pdf_image_reader.py - INFO - Predicted orientation angle = 0, columns = 2\n",
      "2024-03-01 10:11:24,687 - C:\\Users\\jaini\\PycharmProjects\\mined_resume\\venv\\lib\\site-packages\\dedoc\\readers\\pdf_reader\\pdf_image_reader\\pdf_image_reader.py - INFO - Final orientation angle = 0, is_one_column_document = False\n",
      "2024-03-01 10:11:28,642 - C:\\Users\\jaini\\PycharmProjects\\mined_resume\\venv\\lib\\site-packages\\dedoc\\dedoc_manager.py - INFO - Finish parse file 1.pdf\n",
      "2024-03-01 10:11:28,644 - C:\\Users\\jaini\\PycharmProjects\\mined_resume\\venv\\lib\\site-packages\\dedoc\\dedoc_manager.py - INFO - Add metadata of file 1.pdf\n",
      "2024-03-01 10:11:28,645 - C:\\Users\\jaini\\PycharmProjects\\mined_resume\\venv\\lib\\site-packages\\dedoc\\dedoc_manager.py - INFO - Extract structure from file 1.pdf\n",
      "2024-03-01 10:11:28,651 - C:\\Users\\jaini\\PycharmProjects\\mined_resume\\venv\\lib\\site-packages\\dedoc\\dedoc_manager.py - INFO - Get structured document 1.pdf\n",
      "2024-03-01 10:11:28,652 - C:\\Users\\jaini\\PycharmProjects\\mined_resume\\venv\\lib\\site-packages\\dedoc\\dedoc_manager.py - INFO - Get attachments 1.pdf\n",
      "2024-03-01 10:11:28,652 - C:\\Users\\jaini\\PycharmProjects\\mined_resume\\venv\\lib\\site-packages\\dedoc\\dedoc_manager.py - INFO - Finish handle 1.pdf\n",
      "JSON data has been written to 1.json\n"
     ]
    }
   ],
   "source": [
    "def process_file_with_dedoc(file_path):\n",
    "    \"\"\"\n",
    "    Process the file using Dedoc and return the output data.\n",
    "\n",
    "    Args:\n",
    "    - file_path: The path of the file to be processed.\n",
    "\n",
    "    Returns:\n",
    "    - Output data if the file is processed successfully, None otherwise.\n",
    "    \"\"\"\n",
    "    supported_formats = ['jpg', 'jpeg', 'png', 'docx', 'pdf', 'html' , 'doc']\n",
    "\n",
    "    # Check if the file extension is supported\n",
    "    file_extension = file_path.split('.')[-1].lower()\n",
    "    if file_extension not in supported_formats:\n",
    "        print(f\"Cannot process file '{file_path}'. Unsupported file format.\")\n",
    "        return None\n",
    "\n",
    "    # Process the file using Dedoc\n",
    "    output = manager.parse(file_path)\n",
    "    output_data = output.to_api_schema().model_dump()\n",
    "\n",
    "    return output_data\n",
    "\n"
   ]
  },
  {
   "cell_type": "code",
   "execution_count": 17,
   "id": "b845034b5e27883b",
   "metadata": {
    "ExecuteTime": {
     "end_time": "2024-03-01T04:30:47.513477200Z",
     "start_time": "2024-03-01T04:30:40.340883100Z"
    },
    "collapsed": false
   },
   "outputs": [
    {
     "name": "stdout",
     "output_type": "stream",
     "text": [
      "2024-03-01 10:00:40,338 - C:\\Users\\jaini\\PycharmProjects\\mined_resume\\venv\\lib\\site-packages\\dedoc\\dedoc_manager.py - INFO - Get file 1.pdf with parameters {'document_type': '', 'structure_type': 'tree', 'return_format': 'json', 'with_attachments': 'false', 'need_content_analysis': 'false', 'recursion_deep_attachments': '10', 'return_base64': 'false', 'attachments_dir': 'documents/pdf', 'need_pdf_table_analysis': 'true', 'table_type': '', 'orient_analysis_cells': 'false', 'orient_cell_angle': '90', 'pdf_with_text_layer': 'auto_tabby', 'language': 'rus+eng', 'pages': ':', 'is_one_column_document': 'auto', 'document_orientation': 'auto', 'need_header_footer_analysis': 'false', 'need_binarization': 'false', 'delimiter': None, 'encoding': None, 'html_fields': '', 'handle_invisible_table': 'false'}\n",
      "2024-03-01 10:00:40,339 - C:\\Users\\jaini\\PycharmProjects\\mined_resume\\venv\\lib\\site-packages\\dedoc\\dedoc_manager.py - INFO - Start handle documents/pdf/1.pdf\n",
      "2024-03-01 10:00:40,342 - C:\\Users\\jaini\\PycharmProjects\\mined_resume\\venv\\lib\\site-packages\\dedoc\\dedoc_manager.py - INFO - Finish conversion 1.pdf -> 1709267440_116.pdf\n",
      "2024-03-01 10:00:40,359 - C:\\Users\\jaini\\PycharmProjects\\mined_resume\\venv\\lib\\site-packages\\dedoc\\readers\\pdf_reader\\pdf_txtlayer_reader\\pdf_tabby_reader.py - INFO - Reading PDF pages from 1 to 1\n",
      "2024-03-01 10:00:41,452 - C:\\Users\\jaini\\PycharmProjects\\mined_resume\\venv\\lib\\site-packages\\dedoc\\readers\\pdf_reader\\pdf_auto_reader\\pdf_auto_reader.py - INFO - Assume document 1709267440_116.pdf has incorrect textual layer\n",
      "2024-03-01 10:00:42,149 - C:\\Users\\jaini\\PycharmProjects\\mined_resume\\venv\\lib\\site-packages\\dedoc\\readers\\pdf_reader\\pdf_base_reader.py - INFO - Get page from 1 to 1 of 1 file 1709267440_116.pdf\n",
      "2024-03-01 10:00:43,314 - C:\\Users\\jaini\\PycharmProjects\\mined_resume\\venv\\lib\\site-packages\\dedoc\\readers\\pdf_reader\\pdf_image_reader\\pdf_image_reader.py - INFO - Predicted orientation angle = 0, columns = 2\n",
      "2024-03-01 10:00:43,315 - C:\\Users\\jaini\\PycharmProjects\\mined_resume\\venv\\lib\\site-packages\\dedoc\\readers\\pdf_reader\\pdf_image_reader\\pdf_image_reader.py - INFO - Final orientation angle = 0, is_one_column_document = False\n",
      "2024-03-01 10:00:47,439 - C:\\Users\\jaini\\PycharmProjects\\mined_resume\\venv\\lib\\site-packages\\dedoc\\dedoc_manager.py - INFO - Finish parse file 1.pdf\n",
      "2024-03-01 10:00:47,442 - C:\\Users\\jaini\\PycharmProjects\\mined_resume\\venv\\lib\\site-packages\\dedoc\\dedoc_manager.py - INFO - Add metadata of file 1.pdf\n",
      "2024-03-01 10:00:47,442 - C:\\Users\\jaini\\PycharmProjects\\mined_resume\\venv\\lib\\site-packages\\dedoc\\dedoc_manager.py - INFO - Extract structure from file 1.pdf\n",
      "2024-03-01 10:00:47,450 - C:\\Users\\jaini\\PycharmProjects\\mined_resume\\venv\\lib\\site-packages\\dedoc\\dedoc_manager.py - INFO - Get structured document 1.pdf\n",
      "2024-03-01 10:00:47,450 - C:\\Users\\jaini\\PycharmProjects\\mined_resume\\venv\\lib\\site-packages\\dedoc\\dedoc_manager.py - INFO - Get attachments 1.pdf\n",
      "2024-03-01 10:00:47,451 - C:\\Users\\jaini\\PycharmProjects\\mined_resume\\venv\\lib\\site-packages\\dedoc\\dedoc_manager.py - INFO - Finish handle 1.pdf\n",
      "JSON data has been written to 1.json\n"
     ]
    }
   ],
   "source": [
    "# Example usage:\n",
    "file_path = \"documents/pdf/1.pdf\"\n",
    "output_data = process_file_with_dedoc(file_path)\n",
    "if output_data:\n",
    "    # Write the output to a JSON file\n",
    "    write_output_to_json(output_data)"
   ]
  },
  {
   "cell_type": "markdown",
   "id": "9c00e888b7b4db5f",
   "metadata": {
    "collapsed": false
   },
   "source": [
    "### Making a function to process all files in a directory"
   ]
  },
  {
   "cell_type": "code",
   "execution_count": 51,
   "id": "aa322d1afabe5668",
   "metadata": {
    "ExecuteTime": {
     "end_time": "2024-03-01T04:59:19.824608300Z",
     "start_time": "2024-03-01T04:59:19.806608400Z"
    },
    "collapsed": false
   },
   "outputs": [],
   "source": [
    "import os\n",
    "\n",
    "def process_folder_with_dedoc(folder_path):\n",
    "    \"\"\"\n",
    "    Process all files in the folder using Dedoc and write the output to JSON files.\n",
    "\n",
    "    Args:\n",
    "    - folder_path: The path of the folder containing the files to be processed.\n",
    "    \"\"\"\n",
    "    # Create the output folder if it does not exist\n",
    "    output_folder = os.path.join(folder_path, 'output_json')\n",
    "    if not os.path.exists(output_folder):\n",
    "        os.makedirs(output_folder)\n",
    "\n",
    "    # Iterate over all files in the folder\n",
    "    for file_name in os.listdir(folder_path):\n",
    "        file_path = os.path.join(folder_path, file_name)\n",
    "        print(file_path)\n",
    "\n",
    "        # Process only files\n",
    "        if os.path.isfile(file_path):\n",
    "            \n",
    "            print(f\"Processing file '{file_path}'...\")\n",
    "            # Process the file using Dedoc\n",
    "            output_data = process_file_with_dedoc(file_path)\n",
    "\n",
    "\n",
    "            print(f\"Processing file '{file_path}'...\")\n",
    "            if output_data:\n",
    "                # Write the output to a JSON file in the output folder\n",
    "                output_folder = os.path.join(folder_path, 'output_json')\n",
    "                \n",
    "                write_output_to_json(output_data , output_folder) \n",
    "                \n",
    "                #change the directory to the parent folder\n",
    "                \n",
    "\n"
   ]
  },
  {
   "cell_type": "code",
   "execution_count": 55,
   "id": "55807307e98fe3f2",
   "metadata": {
    "ExecuteTime": {
     "end_time": "2024-03-01T05:03:00.847734Z",
     "start_time": "2024-03-01T05:02:51.860416100Z"
    },
    "collapsed": false
   },
   "outputs": [
    {
     "name": "stdout",
     "output_type": "stream",
     "text": [
      "C:\\Users\\jaini\\PycharmProjects\\pythonProject3\\files\\Charles Obuseh.pdf\n",
      "Processing file 'C:\\Users\\jaini\\PycharmProjects\\pythonProject3\\files\\Charles Obuseh.pdf'...\n",
      "2024-03-01 10:32:51,858 - C:\\Users\\jaini\\PycharmProjects\\mined_resume\\venv\\lib\\site-packages\\dedoc\\dedoc_manager.py - INFO - Get file Charles Obuseh.pdf with parameters {'document_type': '', 'structure_type': 'tree', 'return_format': 'json', 'with_attachments': 'false', 'need_content_analysis': 'false', 'recursion_deep_attachments': '10', 'return_base64': 'false', 'attachments_dir': 'C:\\\\Users\\\\jaini\\\\PycharmProjects\\\\pythonProject3\\\\files', 'need_pdf_table_analysis': 'true', 'table_type': '', 'orient_analysis_cells': 'false', 'orient_cell_angle': '90', 'pdf_with_text_layer': 'auto_tabby', 'language': 'rus+eng', 'pages': ':', 'is_one_column_document': 'auto', 'document_orientation': 'auto', 'need_header_footer_analysis': 'false', 'need_binarization': 'false', 'delimiter': None, 'encoding': None, 'html_fields': '', 'handle_invisible_table': 'false'}\n",
      "2024-03-01 10:32:51,859 - C:\\Users\\jaini\\PycharmProjects\\mined_resume\\venv\\lib\\site-packages\\dedoc\\dedoc_manager.py - INFO - Start handle C:\\Users\\jaini\\PycharmProjects\\pythonProject3\\files\\Charles Obuseh.pdf\n",
      "2024-03-01 10:32:51,861 - C:\\Users\\jaini\\PycharmProjects\\mined_resume\\venv\\lib\\site-packages\\dedoc\\dedoc_manager.py - INFO - Finish conversion Charles Obuseh.pdf -> 1709269371_959.pdf\n",
      "2024-03-01 10:32:51,873 - C:\\Users\\jaini\\PycharmProjects\\mined_resume\\venv\\lib\\site-packages\\dedoc\\readers\\pdf_reader\\pdf_txtlayer_reader\\pdf_tabby_reader.py - INFO - Reading PDF pages from 1 to 2\n",
      "2024-03-01 10:32:53,117 - C:\\Users\\jaini\\PycharmProjects\\mined_resume\\venv\\lib\\site-packages\\dedoc\\readers\\pdf_reader\\pdf_auto_reader\\pdf_auto_reader.py - INFO - Assume document 1709269371_959.pdf has a correct textual layer\n",
      "2024-03-01 10:32:53,121 - C:\\Users\\jaini\\PycharmProjects\\mined_resume\\venv\\lib\\site-packages\\dedoc\\readers\\pdf_reader\\pdf_txtlayer_reader\\pdf_tabby_reader.py - INFO - Reading PDF pages from 1 to 2\n",
      "2024-03-01 10:32:54,480 - C:\\Users\\jaini\\PycharmProjects\\mined_resume\\venv\\lib\\site-packages\\dedoc\\dedoc_manager.py - INFO - Finish parse file Charles Obuseh.pdf\n",
      "2024-03-01 10:32:54,483 - C:\\Users\\jaini\\PycharmProjects\\mined_resume\\venv\\lib\\site-packages\\dedoc\\dedoc_manager.py - INFO - Add metadata of file Charles Obuseh.pdf\n",
      "2024-03-01 10:32:54,484 - C:\\Users\\jaini\\PycharmProjects\\mined_resume\\venv\\lib\\site-packages\\dedoc\\dedoc_manager.py - INFO - Extract structure from file Charles Obuseh.pdf\n",
      "2024-03-01 10:32:54,492 - C:\\Users\\jaini\\PycharmProjects\\mined_resume\\venv\\lib\\site-packages\\dedoc\\dedoc_manager.py - INFO - Get structured document Charles Obuseh.pdf\n",
      "2024-03-01 10:32:54,493 - C:\\Users\\jaini\\PycharmProjects\\mined_resume\\venv\\lib\\site-packages\\dedoc\\dedoc_manager.py - INFO - Get attachments Charles Obuseh.pdf\n",
      "2024-03-01 10:32:54,493 - C:\\Users\\jaini\\PycharmProjects\\mined_resume\\venv\\lib\\site-packages\\dedoc\\dedoc_manager.py - INFO - Finish handle Charles Obuseh.pdf\n",
      "Processing file 'C:\\Users\\jaini\\PycharmProjects\\pythonProject3\\files\\Charles Obuseh.pdf'...\n",
      "JSON data has been written to C:\\Users\\jaini\\PycharmProjects\\pythonProject3\\files\\output_json\\Charles Obuseh.json\n",
      "C:\\Users\\jaini\\PycharmProjects\\pythonProject3\\files\\Jainil-Patel-FlowCV-Resume-20240228.pdf\n",
      "Processing file 'C:\\Users\\jaini\\PycharmProjects\\pythonProject3\\files\\Jainil-Patel-FlowCV-Resume-20240228.pdf'...\n",
      "2024-03-01 10:32:54,517 - C:\\Users\\jaini\\PycharmProjects\\mined_resume\\venv\\lib\\site-packages\\dedoc\\dedoc_manager.py - INFO - Get file Jainil-Patel-FlowCV-Resume-20240228.pdf with parameters {'document_type': '', 'structure_type': 'tree', 'return_format': 'json', 'with_attachments': 'false', 'need_content_analysis': 'false', 'recursion_deep_attachments': '10', 'return_base64': 'false', 'attachments_dir': 'C:\\\\Users\\\\jaini\\\\PycharmProjects\\\\pythonProject3\\\\files', 'need_pdf_table_analysis': 'true', 'table_type': '', 'orient_analysis_cells': 'false', 'orient_cell_angle': '90', 'pdf_with_text_layer': 'auto_tabby', 'language': 'rus+eng', 'pages': ':', 'is_one_column_document': 'auto', 'document_orientation': 'auto', 'need_header_footer_analysis': 'false', 'need_binarization': 'false', 'delimiter': None, 'encoding': None, 'html_fields': '', 'handle_invisible_table': 'false'}\n",
      "2024-03-01 10:32:54,518 - C:\\Users\\jaini\\PycharmProjects\\mined_resume\\venv\\lib\\site-packages\\dedoc\\dedoc_manager.py - INFO - Start handle C:\\Users\\jaini\\PycharmProjects\\pythonProject3\\files\\Jainil-Patel-FlowCV-Resume-20240228.pdf\n",
      "2024-03-01 10:32:54,521 - C:\\Users\\jaini\\PycharmProjects\\mined_resume\\venv\\lib\\site-packages\\dedoc\\dedoc_manager.py - INFO - Finish conversion Jainil-Patel-FlowCV-Resume-20240228.pdf -> 1709269374_228.pdf\n",
      "2024-03-01 10:32:54,557 - C:\\Users\\jaini\\PycharmProjects\\mined_resume\\venv\\lib\\site-packages\\dedoc\\readers\\pdf_reader\\pdf_txtlayer_reader\\pdf_tabby_reader.py - INFO - Reading PDF pages from 1 to 1\n",
      "2024-03-01 10:32:55,468 - C:\\Users\\jaini\\PycharmProjects\\mined_resume\\venv\\lib\\site-packages\\dedoc\\readers\\pdf_reader\\pdf_auto_reader\\pdf_auto_reader.py - INFO - Assume document 1709269374_228.pdf has a correct textual layer\n",
      "2024-03-01 10:32:55,471 - C:\\Users\\jaini\\PycharmProjects\\mined_resume\\venv\\lib\\site-packages\\dedoc\\readers\\pdf_reader\\pdf_txtlayer_reader\\pdf_tabby_reader.py - INFO - Reading PDF pages from 1 to 1\n",
      "2024-03-01 10:32:56,367 - C:\\Users\\jaini\\PycharmProjects\\mined_resume\\venv\\lib\\site-packages\\dedoc\\dedoc_manager.py - INFO - Finish parse file Jainil-Patel-FlowCV-Resume-20240228.pdf\n",
      "2024-03-01 10:32:56,369 - C:\\Users\\jaini\\PycharmProjects\\mined_resume\\venv\\lib\\site-packages\\dedoc\\dedoc_manager.py - INFO - Add metadata of file Jainil-Patel-FlowCV-Resume-20240228.pdf\n",
      "2024-03-01 10:32:56,371 - C:\\Users\\jaini\\PycharmProjects\\mined_resume\\venv\\lib\\site-packages\\dedoc\\dedoc_manager.py - INFO - Extract structure from file Jainil-Patel-FlowCV-Resume-20240228.pdf\n",
      "2024-03-01 10:32:56,385 - C:\\Users\\jaini\\PycharmProjects\\mined_resume\\venv\\lib\\site-packages\\dedoc\\dedoc_manager.py - INFO - Get structured document Jainil-Patel-FlowCV-Resume-20240228.pdf\n",
      "2024-03-01 10:32:56,386 - C:\\Users\\jaini\\PycharmProjects\\mined_resume\\venv\\lib\\site-packages\\dedoc\\dedoc_manager.py - INFO - Get attachments Jainil-Patel-FlowCV-Resume-20240228.pdf\n",
      "2024-03-01 10:32:56,387 - C:\\Users\\jaini\\PycharmProjects\\mined_resume\\venv\\lib\\site-packages\\dedoc\\dedoc_manager.py - INFO - Finish handle Jainil-Patel-FlowCV-Resume-20240228.pdf\n",
      "Processing file 'C:\\Users\\jaini\\PycharmProjects\\pythonProject3\\files\\Jainil-Patel-FlowCV-Resume-20240228.pdf'...\n",
      "JSON data has been written to C:\\Users\\jaini\\PycharmProjects\\pythonProject3\\files\\output_json\\Jainil-Patel-FlowCV-Resume-20240228.json\n",
      "C:\\Users\\jaini\\PycharmProjects\\pythonProject3\\files\\Jainil-Patel-FlowCV-Resume-20240228_page-0001.jpg\n",
      "Processing file 'C:\\Users\\jaini\\PycharmProjects\\pythonProject3\\files\\Jainil-Patel-FlowCV-Resume-20240228_page-0001.jpg'...\n",
      "2024-03-01 10:32:56,415 - C:\\Users\\jaini\\PycharmProjects\\mined_resume\\venv\\lib\\site-packages\\dedoc\\dedoc_manager.py - INFO - Get file Jainil-Patel-FlowCV-Resume-20240228_page-0001.jpg with parameters {'document_type': '', 'structure_type': 'tree', 'return_format': 'json', 'with_attachments': 'false', 'need_content_analysis': 'false', 'recursion_deep_attachments': '10', 'return_base64': 'false', 'attachments_dir': 'C:\\\\Users\\\\jaini\\\\PycharmProjects\\\\pythonProject3\\\\files', 'need_pdf_table_analysis': 'true', 'table_type': '', 'orient_analysis_cells': 'false', 'orient_cell_angle': '90', 'pdf_with_text_layer': 'auto_tabby', 'language': 'rus+eng', 'pages': ':', 'is_one_column_document': 'auto', 'document_orientation': 'auto', 'need_header_footer_analysis': 'false', 'need_binarization': 'false', 'delimiter': None, 'encoding': None, 'html_fields': '', 'handle_invisible_table': 'false'}\n",
      "2024-03-01 10:32:56,416 - C:\\Users\\jaini\\PycharmProjects\\mined_resume\\venv\\lib\\site-packages\\dedoc\\dedoc_manager.py - INFO - Start handle C:\\Users\\jaini\\PycharmProjects\\pythonProject3\\files\\Jainil-Patel-FlowCV-Resume-20240228_page-0001.jpg\n",
      "2024-03-01 10:32:56,419 - C:\\Users\\jaini\\PycharmProjects\\mined_resume\\venv\\lib\\site-packages\\dedoc\\dedoc_manager.py - INFO - Finish conversion Jainil-Patel-FlowCV-Resume-20240228_page-0001.jpg -> 1709269376_413.jpg\n",
      "2024-03-01 10:32:57,612 - C:\\Users\\jaini\\PycharmProjects\\mined_resume\\venv\\lib\\site-packages\\dedoc\\readers\\pdf_reader\\pdf_image_reader\\pdf_image_reader.py - INFO - Predicted orientation angle = 0, columns = 2\n",
      "2024-03-01 10:32:57,613 - C:\\Users\\jaini\\PycharmProjects\\mined_resume\\venv\\lib\\site-packages\\dedoc\\readers\\pdf_reader\\pdf_image_reader\\pdf_image_reader.py - INFO - Final orientation angle = 0, is_one_column_document = False\n",
      "2024-03-01 10:33:00,454 - C:\\Users\\jaini\\PycharmProjects\\mined_resume\\venv\\lib\\site-packages\\dedoc\\dedoc_manager.py - INFO - Finish parse file Jainil-Patel-FlowCV-Resume-20240228_page-0001.jpg\n",
      "2024-03-01 10:33:00,456 - C:\\Users\\jaini\\PycharmProjects\\mined_resume\\venv\\lib\\site-packages\\dedoc\\dedoc_manager.py - INFO - Add metadata of file Jainil-Patel-FlowCV-Resume-20240228_page-0001.jpg\n",
      "2024-03-01 10:33:00,457 - C:\\Users\\jaini\\PycharmProjects\\mined_resume\\venv\\lib\\site-packages\\dedoc\\dedoc_manager.py - INFO - Extract structure from file Jainil-Patel-FlowCV-Resume-20240228_page-0001.jpg\n",
      "2024-03-01 10:33:00,476 - C:\\Users\\jaini\\PycharmProjects\\mined_resume\\venv\\lib\\site-packages\\dedoc\\dedoc_manager.py - INFO - Get structured document Jainil-Patel-FlowCV-Resume-20240228_page-0001.jpg\n",
      "2024-03-01 10:33:00,477 - C:\\Users\\jaini\\PycharmProjects\\mined_resume\\venv\\lib\\site-packages\\dedoc\\dedoc_manager.py - INFO - Get attachments Jainil-Patel-FlowCV-Resume-20240228_page-0001.jpg\n",
      "2024-03-01 10:33:00,477 - C:\\Users\\jaini\\PycharmProjects\\mined_resume\\venv\\lib\\site-packages\\dedoc\\dedoc_manager.py - INFO - Finish handle Jainil-Patel-FlowCV-Resume-20240228_page-0001.jpg\n",
      "Processing file 'C:\\Users\\jaini\\PycharmProjects\\pythonProject3\\files\\Jainil-Patel-FlowCV-Resume-20240228_page-0001.jpg'...\n",
      "JSON data has been written to C:\\Users\\jaini\\PycharmProjects\\pythonProject3\\files\\output_json\\Jainil-Patel-FlowCV-Resume-20240228_page-0001.json\n",
      "C:\\Users\\jaini\\PycharmProjects\\pythonProject3\\files\\output_json\n",
      "C:\\Users\\jaini\\PycharmProjects\\pythonProject3\\files\\resume.html\n",
      "Processing file 'C:\\Users\\jaini\\PycharmProjects\\pythonProject3\\files\\resume.html'...\n",
      "2024-03-01 10:33:00,518 - C:\\Users\\jaini\\PycharmProjects\\mined_resume\\venv\\lib\\site-packages\\dedoc\\dedoc_manager.py - INFO - Get file resume.html with parameters {'document_type': '', 'structure_type': 'tree', 'return_format': 'json', 'with_attachments': 'false', 'need_content_analysis': 'false', 'recursion_deep_attachments': '10', 'return_base64': 'false', 'attachments_dir': 'C:\\\\Users\\\\jaini\\\\PycharmProjects\\\\pythonProject3\\\\files', 'need_pdf_table_analysis': 'true', 'table_type': '', 'orient_analysis_cells': 'false', 'orient_cell_angle': '90', 'pdf_with_text_layer': 'auto_tabby', 'language': 'rus+eng', 'pages': ':', 'is_one_column_document': 'auto', 'document_orientation': 'auto', 'need_header_footer_analysis': 'false', 'need_binarization': 'false', 'delimiter': None, 'encoding': None, 'html_fields': '', 'handle_invisible_table': 'false'}\n",
      "2024-03-01 10:33:00,519 - C:\\Users\\jaini\\PycharmProjects\\mined_resume\\venv\\lib\\site-packages\\dedoc\\dedoc_manager.py - INFO - Start handle C:\\Users\\jaini\\PycharmProjects\\pythonProject3\\files\\resume.html\n",
      "2024-03-01 10:33:00,522 - C:\\Users\\jaini\\PycharmProjects\\mined_resume\\venv\\lib\\site-packages\\dedoc\\dedoc_manager.py - INFO - Finish conversion resume.html -> 1709269380_440.html\n",
      "2024-03-01 10:33:00,580 - C:\\Users\\jaini\\PycharmProjects\\mined_resume\\venv\\lib\\site-packages\\dedoc\\dedoc_manager.py - INFO - Finish parse file resume.html\n",
      "2024-03-01 10:33:00,581 - C:\\Users\\jaini\\PycharmProjects\\mined_resume\\venv\\lib\\site-packages\\dedoc\\dedoc_manager.py - INFO - Add metadata of file resume.html\n",
      "2024-03-01 10:33:00,582 - C:\\Users\\jaini\\PycharmProjects\\mined_resume\\venv\\lib\\site-packages\\dedoc\\dedoc_manager.py - INFO - Extract structure from file resume.html\n",
      "2024-03-01 10:33:00,584 - C:\\Users\\jaini\\PycharmProjects\\mined_resume\\venv\\lib\\site-packages\\dedoc\\dedoc_manager.py - INFO - Get structured document resume.html\n",
      "2024-03-01 10:33:00,584 - C:\\Users\\jaini\\PycharmProjects\\mined_resume\\venv\\lib\\site-packages\\dedoc\\dedoc_manager.py - INFO - Get attachments resume.html\n",
      "2024-03-01 10:33:00,584 - C:\\Users\\jaini\\PycharmProjects\\mined_resume\\venv\\lib\\site-packages\\dedoc\\dedoc_manager.py - INFO - Finish handle resume.html\n",
      "Processing file 'C:\\Users\\jaini\\PycharmProjects\\pythonProject3\\files\\resume.html'...\n",
      "JSON data has been written to C:\\Users\\jaini\\PycharmProjects\\pythonProject3\\files\\output_json\\resume.json\n",
      "C:\\Users\\jaini\\PycharmProjects\\pythonProject3\\files\\vishal.docx\n",
      "Processing file 'C:\\Users\\jaini\\PycharmProjects\\pythonProject3\\files\\vishal.docx'...\n",
      "2024-03-01 10:33:00,588 - C:\\Users\\jaini\\PycharmProjects\\mined_resume\\venv\\lib\\site-packages\\dedoc\\dedoc_manager.py - INFO - Get file vishal.docx with parameters {'document_type': '', 'structure_type': 'tree', 'return_format': 'json', 'with_attachments': 'false', 'need_content_analysis': 'false', 'recursion_deep_attachments': '10', 'return_base64': 'false', 'attachments_dir': 'C:\\\\Users\\\\jaini\\\\PycharmProjects\\\\pythonProject3\\\\files', 'need_pdf_table_analysis': 'true', 'table_type': '', 'orient_analysis_cells': 'false', 'orient_cell_angle': '90', 'pdf_with_text_layer': 'auto_tabby', 'language': 'rus+eng', 'pages': ':', 'is_one_column_document': 'auto', 'document_orientation': 'auto', 'need_header_footer_analysis': 'false', 'need_binarization': 'false', 'delimiter': None, 'encoding': None, 'html_fields': '', 'handle_invisible_table': 'false'}\n",
      "2024-03-01 10:33:00,588 - C:\\Users\\jaini\\PycharmProjects\\mined_resume\\venv\\lib\\site-packages\\dedoc\\dedoc_manager.py - INFO - Start handle C:\\Users\\jaini\\PycharmProjects\\pythonProject3\\files\\vishal.docx\n",
      "2024-03-01 10:33:00,590 - C:\\Users\\jaini\\PycharmProjects\\mined_resume\\venv\\lib\\site-packages\\dedoc\\dedoc_manager.py - INFO - Finish conversion vishal.docx -> 1709269380_834.docx\n",
      "2024-03-01 10:33:00,807 - C:\\Users\\jaini\\PycharmProjects\\mined_resume\\venv\\lib\\site-packages\\dedoc\\dedoc_manager.py - INFO - Finish parse file vishal.docx\n",
      "2024-03-01 10:33:00,814 - C:\\Users\\jaini\\PycharmProjects\\mined_resume\\venv\\lib\\site-packages\\dedoc\\dedoc_manager.py - INFO - Add metadata of file vishal.docx\n",
      "2024-03-01 10:33:00,815 - C:\\Users\\jaini\\PycharmProjects\\mined_resume\\venv\\lib\\site-packages\\dedoc\\dedoc_manager.py - INFO - Extract structure from file vishal.docx\n",
      "2024-03-01 10:33:00,821 - C:\\Users\\jaini\\PycharmProjects\\mined_resume\\venv\\lib\\site-packages\\dedoc\\dedoc_manager.py - INFO - Get structured document vishal.docx\n",
      "2024-03-01 10:33:00,822 - C:\\Users\\jaini\\PycharmProjects\\mined_resume\\venv\\lib\\site-packages\\dedoc\\dedoc_manager.py - INFO - Get attachments vishal.docx\n",
      "2024-03-01 10:33:00,823 - C:\\Users\\jaini\\PycharmProjects\\mined_resume\\venv\\lib\\site-packages\\dedoc\\dedoc_manager.py - INFO - Finish handle vishal.docx\n",
      "Processing file 'C:\\Users\\jaini\\PycharmProjects\\pythonProject3\\files\\vishal.docx'...\n",
      "JSON data has been written to C:\\Users\\jaini\\PycharmProjects\\pythonProject3\\files\\output_json\\vishal.json\n"
     ]
    }
   ],
   "source": [
    "# Example usage:\n",
    "folder_path = r\"C:\\Users\\jaini\\PycharmProjects\\pythonProject3\\files\"\n",
    "process_folder_with_dedoc(folder_path)\n"
   ]
  },
  {
   "cell_type": "code",
   "execution_count": 60,
   "id": "902f29a634e29bc8",
   "metadata": {
    "ExecuteTime": {
     "end_time": "2024-03-01T05:04:02.872026400Z",
     "start_time": "2024-03-01T05:04:02.846025Z"
    },
    "collapsed": false
   },
   "outputs": [
    {
     "data": {
      "text/plain": [
       "['Charles Obuseh.pdf',\n",
       " 'Jainil-Patel-FlowCV-Resume-20240228.pdf',\n",
       " 'Jainil-Patel-FlowCV-Resume-20240228_page-0001.jpg',\n",
       " 'output_json',\n",
       " 'resume.html',\n",
       " 'vishal.docx']"
      ]
     },
     "execution_count": 60,
     "metadata": {},
     "output_type": "execute_result"
    }
   ],
   "source": [
    "# Shot the files in the output folder\n",
    "os.listdir(r'C:\\Users\\jaini\\PycharmProjects\\pythonProject3\\files')"
   ]
  },
  {
   "cell_type": "code",
   "execution_count": 59,
   "id": "e2ed5a2483b07c32",
   "metadata": {
    "ExecuteTime": {
     "end_time": "2024-03-01T05:03:43.635295800Z",
     "start_time": "2024-03-01T05:03:43.617296400Z"
    },
    "collapsed": false
   },
   "outputs": [
    {
     "data": {
      "text/plain": [
       "['Charles Obuseh.json',\n",
       " 'Jainil-Patel-FlowCV-Resume-20240228.json',\n",
       " 'Jainil-Patel-FlowCV-Resume-20240228_page-0001.json',\n",
       " 'resume.json',\n",
       " 'vishal.json']"
      ]
     },
     "execution_count": 59,
     "metadata": {},
     "output_type": "execute_result"
    }
   ],
   "source": [
    "# Shot the files in the output folder\n",
    "os.listdir(r'C:\\Users\\jaini\\PycharmProjects\\pythonProject3\\files\\output_json')"
   ]
  },
  {
   "cell_type": "markdown",
   "id": "4806109293cfc54a",
   "metadata": {
    "collapsed": false
   },
   "source": [
    "## Extracting text from the JSON file"
   ]
  },
  {
   "cell_type": "code",
   "execution_count": 61,
   "id": "9162d0688b3cc5bc",
   "metadata": {
    "ExecuteTime": {
     "end_time": "2024-03-01T05:05:09.505144800Z",
     "start_time": "2024-03-01T05:05:09.486618200Z"
    },
    "collapsed": false
   },
   "outputs": [],
   "source": [
    "import json\n",
    "\n",
    "def extract_text_from_subparagraphs(subparagraphs):\n",
    "    \"\"\"\n",
    "    Recursively extract text from subparagraphs.\n",
    "\n",
    "    Args:\n",
    "    - subparagraphs: A list of subparagraphs.\n",
    "\n",
    "    Returns:\n",
    "    - A string containing the text from all subparagraphs.\n",
    "    \"\"\"\n",
    "    text = \"\"\n",
    "    for subpara in subparagraphs:\n",
    "        text += subpara['text'] + \"\\n\"\n",
    "        if 'subparagraphs' in subpara:\n",
    "            text += extract_text_from_subparagraphs(subpara['subparagraphs'])\n",
    "    return text\n",
    "\n",
    "def extract_text_from_all_levels(json_file):\n",
    "    \"\"\"\n",
    "    Extract text from all levels of subparagraphs in the JSON file.\n",
    "\n",
    "    Args:\n",
    "    - json_file: The path to the JSON file containing subparagraphs.\n",
    "\n",
    "    Returns:\n",
    "    - A string containing the text from all levels of subparagraphs.\n",
    "    \"\"\"\n",
    "    with open(json_file, 'r') as f:\n",
    "        data = json.load(f)\n",
    "    text = \"\"\n",
    "    if 'subparagraphs' in data['content']['structure']:\n",
    "        subparagraphs = data['content']['structure']['subparagraphs']\n",
    "        text += extract_text_from_subparagraphs(subparagraphs)\n",
    "    return text\n",
    "\n",
    "\n"
   ]
  },
  {
   "cell_type": "code",
   "execution_count": 62,
   "id": "840b22804bdff40f",
   "metadata": {
    "ExecuteTime": {
     "end_time": "2024-03-01T05:05:10.384760400Z",
     "start_time": "2024-03-01T05:05:10.362159Z"
    },
    "collapsed": false
   },
   "outputs": [
    {
     "name": "stdout",
     "output_type": "stream",
     "text": [
      "Jainil Patel\n",
      "jainil24680@gmail.com 7774036728 @ linkedin.com/in/jainil-patel-2857ab202/\n",
      "\n",
      "\n",
      "© github.com/astro215\n",
      "\n",
      "EDUCATION\n",
      "\n",
      "Symbiosis Institute of Technology Aug 2021 - Jul 2025 | Pune, India\n",
      "B.Tech Artificial Intelligence and Machine Learning.\n",
      "\n",
      "SKILLS\n",
      "Languages: ML/AI:\n",
      "Python, C++, SQL Tensorflow , PyTorch, Numpy, Pandas, Keras ,\n",
      "OpenCV\n",
      "Web Technologies:\n",
      "Full Stack , HTML , CSS , JavaScript , React.js , App Development:\n",
      "Node.js , Express.js , FastAPI , MERN stack , Flask. React Native , Flutter\n",
      "Data Visualization Miscellaneous:\n",
      "PowerBi , Tableau Git , Linux , PyCharm, Latex , MongoDB\n",
      "\n",
      "PROFESSIONAL EXPERIENCE\n",
      "\n",
      "Idea Foundation 2 Jul 2023 - Dec 2023 | Pune, India\n",
      "Data Analyst - PowerBi , Tableau\n",
      "\n",
      "« Developed an interactive dashboard presenting individual student reports, utilizing data from an NGO across\n",
      "multiple centers.\n",
      "« Enhanced donor impact by employing creative data visualization techniques that vividly showcase the positive\n",
      "outcomes of the NGO's educational initiatives.\n",
      "Integrated interactive features into the dashboard, providing donors with a dynamic and engaging experience,\n",
      "fostering a deeper understanding of the meaningful contributions to student education.\n",
      "\n",
      "PROJECTS\n",
      "\n",
      "Legal Bot - Legal Text Summarization using NLP 2\n",
      "Python , TensorFlow , PyTorch , React Native , JavaScript , Fast API (Docker) , Firebase , Hugging Face\n",
      "« Orchestrated the training of models to distill intricate legal texts into digestible summaries, enhancing overall\n",
      "understanding.\n",
      "« Implemented the deployment of the Language Model (LLM) through FastAPI, seamlessly integrating it into a\n",
      "user-friendly React Native app for an optimized user experience.\n",
      "« Spearheaded the development of a mobile app employing advanced NLP techniques, revolutionizing the\n",
      "interpretation of legal jargon and enabling effortless extraction of crucial information from complex\n",
      "documents.\n",
      "\n",
      "Avifauna Acoustic Detection 2\n",
      "Python , TensorFlow , Streamlit\n",
      "« Spearheaded the development of advanced ML models, including Convolutional Neural Networks (CNNs) and\n",
      "Recurrent Neural Networks (RNNs), to achieve accurate bird species recognition.\n",
      "« Demonstrated forward-thinking innovation by envisioning a future where real-time bird recognition can be\n",
      "\n",
      "seamlessly achieved through smartphones. Emphasized collaboration to enrich data and improve the accuracy\n",
      "of avifauna identification.\n",
      "Made a significant impact on conservation efforts by actively contributing to bird population monitoring and\n",
      "behavior study. Showcased a strong commitment to ornithology through the application of cutting-edge ML\n",
      "techniques, furthering the cause of avian conservation.\n",
      "Resting, and cognitive state EEG signal classification of multiple subject-driven states. 2\n",
      "Python , TensorFlow , MNE (library) , Streamlit\n",
      "« Implemented EEG signal processing with a focus on preprocessing using the MNE library, emphasizing\n",
      "effective signal processing techniques.\n",
      "« Applied Supervised Machine Learning and Deep Learning for state classification, contributing to the\n",
      "understanding of EEG signal patterns and their correlation with cognitive states.\n",
      "« Conducted a comprehensive comparative analysis of various classification models, aiming to identify the most\n",
      "robust and accurate approach for EEG signal classification.\n",
      "« Engaged in ongoing research, actively contributing to a research paper. This involves exploring novel\n",
      "methodologies, staying at the forefront of EEG signal processing advancements, and making valuable\n",
      "contributions to the scientific community.\n",
      "\n",
      "ACHIEVEMENTS\n",
      "\n",
      "GGP-PAAI Student conference 2\n",
      "Presented research paper in GGP-PAAI Student's conference in partnership with Aston University(UK)\n"
     ]
    }
   ],
   "source": [
    "# Example usage:\n",
    "json_file = r\"C:\\Users\\jaini\\PycharmProjects\\pythonProject3\\files\\output_json\\Jainil-Patel-FlowCV-Resume-20240228_page-0001.json\"\n",
    "pdf_text = extract_text_from_all_levels(json_file)\n",
    "print(pdf_text)"
   ]
  },
  {
   "cell_type": "code",
   "execution_count": null,
   "id": "c448595e4a2b44d7",
   "metadata": {
    "collapsed": false
   },
   "outputs": [],
   "source": []
  }
 ],
 "metadata": {
  "kernelspec": {
   "display_name": "Python 3 (ipykernel)",
   "language": "python",
   "name": "python3"
  },
  "language_info": {
   "codemirror_mode": {
    "name": "ipython",
    "version": 3
   },
   "file_extension": ".py",
   "mimetype": "text/x-python",
   "name": "python",
   "nbconvert_exporter": "python",
   "pygments_lexer": "ipython3",
   "version": "3.10.0"
  }
 },
 "nbformat": 4,
 "nbformat_minor": 5
}
